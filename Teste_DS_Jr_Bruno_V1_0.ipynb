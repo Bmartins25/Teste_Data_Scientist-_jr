{
  "nbformat": 4,
  "nbformat_minor": 0,
  "metadata": {
    "colab": {
      "provenance": [],
      "authorship_tag": "ABX9TyOGNGVjhmrrTnfV6X8ehjKq"
    },
    "kernelspec": {
      "name": "python3",
      "display_name": "Python 3"
    },
    "language_info": {
      "name": "python"
    }
  },
  "cells": [
    {
      "cell_type": "markdown",
      "source": [
        "\n",
        "Assuma que se deseja prever a soma do número de diárias de carros a serem vendidas nos próximos 7 dias em cada agência, em função do preço médio a ser arbitrado para cada tipo de carro em cada agência.\n",
        "\n",
        "Os dados históricos de vendas estão em um arquivo CSV (ou em uma tabela SQL) com as seguintes colunas e respectivos dados em cada linha, onde cada linha corresponde a uma venda:\n",
        "\n",
        "-----\n",
        "\n",
        "COD_AG: código da agência\n",
        "\n",
        "NUM_NOTA: número da nota fiscal\n",
        "\n",
        "DATA: data correspondente à venda\n",
        "\n",
        "COD_TIPO_CARRO: código do tipo de carro que foi alugado\n",
        "\n",
        "NUM_DIARIAS: número de diárias vendidas\n",
        "\n",
        "VALOR: valor total da nota fiscal\n",
        "\n",
        "Note que:\n",
        "\n",
        " * Múltiplas vendas do mesmo tipo de carro podem ocorrer no mesmo dia e na mesma agência, cada uma com preço potencialmente diferente.\n",
        "\n",
        " * O preço unitário de uma diária em uma venda pode ser calculado pela divisão VALOR/NUM_DIARIAS.\n",
        "\n",
        " * A DATA pode ser assumida como um número inteiro entre 1 e 7000, onde esse número corresponde ao número de dias desde o início da operação da empresa.\n",
        "\n",
        " * Você pode assumir que há aluguel de todos os tipos de carros em todas as agências ao longo de todos os dias do histórico.\n",
        "\n",
        "Exercícios:\n",
        "\n",
        "Escreva o código (usando SQL; Python com Pandas ou Spark; ou R) correspondente à preparação do seguinte dataframe (ou tabela SQL) para a criação de um modelo preditivo:\n",
        "\n",
        " * DATA_REF: data de referência (i.e. valores correspondem a 7 dias a partir dessa data)\n",
        "\n",
        " * COD_AG: código da agência\n",
        "\n",
        " * COD_TIPO_CARRO: código do tipo de carro\n",
        "\n",
        " * PRECO_MEDIO: preço médio ponderado por número de diárias do tipo de carro no período de referência e na agência\n",
        "\n",
        " * DELTA_PRECO_MEDIO: variação percentual do preço médio ponderado entre semana anterior (entre DATA_REF-7dias e DATA_REF-1 dia, incluindo os limites) e semana atual (entre DATA_REF e DATA_REF+6 dias, incluindo os limites)\n",
        "\n",
        " * NUM_DIARIAS_SEMANA_ANTERIOR: número total de diárias vendidas na semana anterior (entre DATA_REF-7dias e DATA_REF-1 dia, incluindo os limites)\n",
        "\n",
        " * NUM_DIARIAS_SEMANA: número total de diárias vendidas na semana atual (entre DATA_REF e DATA_REF+6 dias, incluindo os limites)\n",
        "\n",
        "\n",
        "----\n",
        "\n",
        "Proponha conjunto de “features” adicionais que possam ajudar na previsão futura, a serem adicionadas no dataframe. Note que há uma infinidade de “features” que podem ser úteis ao se agregar as vendas por semana e ao se considerar o histórico.\n",
        "\n",
        "Explique como faria o treinamento e o teste do modelo.\n",
        "\n"
      ],
      "metadata": {
        "id": "bNqsUGCIawZZ"
      }
    },
    {
      "cell_type": "code",
      "source": [
        "import pandas as pd\n",
        "import numpy as np\n",
        "import matplotlib.pyplot as plt\n",
        "from sklearn.linear_model import LinearRegression"
      ],
      "metadata": {
        "id": "Kb6VI3VtaiK1"
      },
      "execution_count": 38,
      "outputs": []
    },
    {
      "cell_type": "code",
      "source": [
        "df_data = {\n",
        "    'COD_AG': [1, 1, 2, 2, 1, 2, 1, 2],\n",
        "    'NUM_NOTA': [1, 2, 3, 4, 5, 6, 7, 8],\n",
        "    'DATA': [1, 2, 8, 9, 15, 16, 22, 23],\n",
        "    'COD_TIPO_CARRO': [101, 102, 101, 103, 102, 104, 101, 103],\n",
        "    'NUM_DIARIAS': [2, 3, 1, 2, 3, 1, 2, 2],\n",
        "    'VALOR': [100, 150, 80, 120, 200, 90, 160, 140]\n",
        "}\n",
        "\n"
      ],
      "metadata": {
        "id": "fh3awItJYQLC"
      },
      "execution_count": 39,
      "outputs": []
    },
    {
      "cell_type": "code",
      "source": [
        "df = pd.DataFrame(df_data)\n",
        "print(df)\n"
      ],
      "metadata": {
        "colab": {
          "base_uri": "https://localhost:8080/"
        },
        "id": "kSzx3IPIYk-1",
        "outputId": "587dd8d0-7c48-4803-8573-09756989d887"
      },
      "execution_count": 40,
      "outputs": [
        {
          "output_type": "stream",
          "name": "stdout",
          "text": [
            "   COD_AG  NUM_NOTA  DATA  COD_TIPO_CARRO  NUM_DIARIAS  VALOR\n",
            "0       1         1     1             101            2    100\n",
            "1       1         2     2             102            3    150\n",
            "2       2         3     8             101            1     80\n",
            "3       2         4     9             103            2    120\n",
            "4       1         5    15             102            3    200\n",
            "5       2         6    16             104            1     90\n",
            "6       1         7    22             101            2    160\n",
            "7       2         8    23             103            2    140\n"
          ]
        }
      ]
    },
    {
      "cell_type": "code",
      "source": [
        "# Calculando preço médio por tipo de carro e agência\n",
        "df['PRECO_UNITARIO'] = df['VALOR'] / df['NUM_DIARIAS']\n",
        "preco_medio = df.groupby(['COD_AG', 'COD_TIPO_CARRO']).agg({'PRECO_UNITARIO': 'mean'}).reset_index()\n",
        "preco_medio.rename(columns={'PRECO_UNITARIO': 'PRECO_MEDIO'}, inplace=True)"
      ],
      "metadata": {
        "id": "GMq3idWSaOm4"
      },
      "execution_count": 41,
      "outputs": []
    },
    {
      "cell_type": "code",
      "source": [
        "# Calculando a data de referência e semana anterior\n",
        "df['DATA_REF'] = df['DATA'] + 7\n",
        "df['DATA_SEMANA_ANTERIOR'] = df['DATA'] - 7"
      ],
      "metadata": {
        "id": "Aww6rPHaa-R_"
      },
      "execution_count": 42,
      "outputs": []
    },
    {
      "cell_type": "code",
      "source": [
        "# Merge para adicionar o preço médio ao dataframe\n",
        "df = pd.merge(df, preco_medio, on=['COD_AG', 'COD_TIPO_CARRO'], how='left')"
      ],
      "metadata": {
        "id": "B5Tslvv9bAF1"
      },
      "execution_count": 43,
      "outputs": []
    },
    {
      "cell_type": "code",
      "source": [
        "# Calculando as métricas necessárias para cada linha\n",
        "# Variação percentual do preço médio\n",
        "df['DELTA_PRECO_MEDIO'] = (df['PRECO_MEDIO'] - df.groupby(['COD_AG', 'COD_TIPO_CARRO'])['PRECO_MEDIO'].shift(7)) / df.groupby(['COD_AG', 'COD_TIPO_CARRO'])['PRECO_MEDIO'].shift(7)\n",
        "\n"
      ],
      "metadata": {
        "id": "_AXQXd0wbBZN"
      },
      "execution_count": 44,
      "outputs": []
    },
    {
      "cell_type": "code",
      "source": [
        "# Número total de diárias vendidas na semana anterior e na semana atual\n",
        "diarias_semana_anterior = df.groupby(['COD_AG', 'COD_TIPO_CARRO', 'DATA_SEMANA_ANTERIOR']).agg({'NUM_DIARIAS': 'sum'}).reset_index()\n",
        "diarias_semana_anterior.rename(columns={'NUM_DIARIAS': 'NUM_DIARIAS_SEMANA_ANTERIOR'}, inplace=True)\n",
        "\n"
      ],
      "metadata": {
        "id": "pgizVG-8bJHa"
      },
      "execution_count": 45,
      "outputs": []
    },
    {
      "cell_type": "code",
      "source": [
        "\n",
        "\n",
        "# Merge para adicionar o número de diárias vendidas na semana anterior e atual ao dataframe\n",
        "df = pd.merge(df, diarias_semana_anterior, on=['COD_AG', 'COD_TIPO_CARRO', 'DATA_SEMANA_ANTERIOR'], how='left')\n",
        "df = pd.merge(df, diarias_semana_atual, on=['COD_AG', 'COD_TIPO_CARRO', 'DATA_REF'], how='left')\n",
        "\n",
        "# Exibindo o dataframe final\n",
        "print(df)"
      ],
      "metadata": {
        "colab": {
          "base_uri": "https://localhost:8080/"
        },
        "id": "VIqSkyrPbKKG",
        "outputId": "5b0c4689-9728-4773-9179-5db569774e91"
      },
      "execution_count": 46,
      "outputs": [
        {
          "output_type": "stream",
          "name": "stdout",
          "text": [
            "   COD_AG  NUM_NOTA  DATA  COD_TIPO_CARRO  NUM_DIARIAS  VALOR  PRECO_UNITARIO  \\\n",
            "0       1         1     1             101            2    100       50.000000   \n",
            "1       1         2     2             102            3    150       50.000000   \n",
            "2       2         3     8             101            1     80       80.000000   \n",
            "3       2         4     9             103            2    120       60.000000   \n",
            "4       1         5    15             102            3    200       66.666667   \n",
            "5       2         6    16             104            1     90       90.000000   \n",
            "6       1         7    22             101            2    160       80.000000   \n",
            "7       2         8    23             103            2    140       70.000000   \n",
            "\n",
            "   DATA_REF  DATA_SEMANA_ANTERIOR  PRECO_MEDIO  DELTA_PRECO_MEDIO  \\\n",
            "0         8                    -6    65.000000                NaN   \n",
            "1         9                    -5    58.333333                NaN   \n",
            "2        15                     1    80.000000                NaN   \n",
            "3        16                     2    65.000000                NaN   \n",
            "4        22                     8    58.333333                NaN   \n",
            "5        23                     9    90.000000                NaN   \n",
            "6        29                    15    65.000000                NaN   \n",
            "7        30                    16    65.000000                NaN   \n",
            "\n",
            "   NUM_DIARIAS_SEMANA_ANTERIOR  NUM_DIARIAS_SEMANA  \n",
            "0                            2                   2  \n",
            "1                            3                   3  \n",
            "2                            1                   1  \n",
            "3                            2                   2  \n",
            "4                            3                   3  \n",
            "5                            1                   1  \n",
            "6                            2                   2  \n",
            "7                            2                   2  \n"
          ]
        }
      ]
    }
  ]
}